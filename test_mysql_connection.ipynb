{
 "cells": [
  {
   "cell_type": "markdown",
   "id": "34cf2e55",
   "metadata": {},
   "source": [
    "# Install Required Libraries\n",
    "Use pip to install the required libraries, such as `mysql-connector-python`."
   ]
  },
  {
   "cell_type": "code",
   "execution_count": 3,
   "id": "bba3b2a7",
   "metadata": {},
   "outputs": [
    {
     "name": "stdout",
     "output_type": "stream",
     "text": [
      "Requirement already satisfied: mysql-connector-python in /Users/jackqu/anaconda3/envs/airflow39/lib/python3.9/site-packages (9.3.0)\n"
     ]
    }
   ],
   "source": [
    "# Install Required Libraries\n",
    "!pip install mysql-connector-python"
   ]
  },
  {
   "cell_type": "markdown",
   "id": "7c52cc7c",
   "metadata": {},
   "source": [
    "# Import Libraries\n",
    "Import the necessary libraries, including `mysql.connector`."
   ]
  },
  {
   "cell_type": "code",
   "execution_count": 7,
   "id": "da4257e4",
   "metadata": {},
   "outputs": [],
   "source": [
    "# Import Libraries\n",
    "import mysql.connector\n",
    "from mysql.connector import Error"
   ]
  },
  {
   "cell_type": "markdown",
   "id": "d5a2715c",
   "metadata": {},
   "source": [
    "# Set Database Configuration\n",
    "Define the database configuration variables, such as host, port, user, password, and database name."
   ]
  },
  {
   "cell_type": "code",
   "execution_count": 8,
   "id": "43adb16d",
   "metadata": {},
   "outputs": [],
   "source": [
    "# Set Database Configuration\n",
    "import os\n",
    "from dotenv import load_dotenv\n",
    "\n",
    "# Load environment variables from .env file\n",
    "load_dotenv()\n",
    "\n",
    "db_config = {\n",
    "    \"host\": os.getenv(\"DB_HOST\"),\n",
    "    \"port\": int(os.getenv(\"DB_PORT\")),\n",
    "    \"user\": os.getenv(\"DB_USER\"),\n",
    "    \"password\": os.getenv(\"DB_PASSWORD\"),\n",
    "    \"database\": os.getenv(\"DB_NAME\"),\n",
    "}"
   ]
  },
  {
   "cell_type": "markdown",
   "id": "7fece40d",
   "metadata": {},
   "source": [
    "# Establish Database Connection\n",
    "Use `mysql.connector.connect()` to establish a connection to the database using the configuration variables."
   ]
  },
  {
   "cell_type": "code",
   "execution_count": 9,
   "id": "fbb3a2f6",
   "metadata": {},
   "outputs": [
    {
     "name": "stdout",
     "output_type": "stream",
     "text": [
      "Connection to the database was successful.\n"
     ]
    }
   ],
   "source": [
    "# Establish Database Connection\n",
    "try:\n",
    "    connection = mysql.connector.connect(**db_config)\n",
    "    if connection.is_connected():\n",
    "        print(\"Connection to the database was successful.\")\n",
    "except Error as e:\n",
    "    print(f\"Error: {e}\")"
   ]
  },
  {
   "cell_type": "markdown",
   "id": "7bf769cc",
   "metadata": {},
   "source": [
    "# Execute a Test Query\n",
    "Run a simple SQL query, such as `SELECT DATABASE();`, to verify the connection."
   ]
  },
  {
   "cell_type": "code",
   "execution_count": 10,
   "id": "69b18832",
   "metadata": {},
   "outputs": [
    {
     "name": "stdout",
     "output_type": "stream",
     "text": [
      "Connected to database: sys\n"
     ]
    }
   ],
   "source": [
    "# Execute a Test Query\n",
    "try:\n",
    "    if connection.is_connected():\n",
    "        cursor = connection.cursor()\n",
    "        cursor.execute(\"SELECT DATABASE();\")\n",
    "        record = cursor.fetchone()\n",
    "        print(f\"Connected to database: {record[0]}\")\n",
    "except Error as e:\n",
    "    print(f\"Error: {e}\")"
   ]
  },
  {
   "cell_type": "markdown",
   "id": "5afaa2ee",
   "metadata": {},
   "source": [
    "# Close the Database Connection\n",
    "Close the database connection using the `close()` method."
   ]
  },
  {
   "cell_type": "code",
   "execution_count": 11,
   "id": "ee99a131",
   "metadata": {},
   "outputs": [
    {
     "name": "stdout",
     "output_type": "stream",
     "text": [
      "Database connection closed.\n"
     ]
    }
   ],
   "source": [
    "# Close the Database Connection\n",
    "if connection.is_connected():\n",
    "    cursor.close()\n",
    "    connection.close()\n",
    "    print(\"Database connection closed.\")"
   ]
  }
 ],
 "metadata": {
  "kernelspec": {
   "display_name": "airflow39",
   "language": "python",
   "name": "python3"
  },
  "language_info": {
   "codemirror_mode": {
    "name": "ipython",
    "version": 3
   },
   "file_extension": ".py",
   "mimetype": "text/x-python",
   "name": "python",
   "nbconvert_exporter": "python",
   "pygments_lexer": "ipython3",
   "version": "3.9.23"
  }
 },
 "nbformat": 4,
 "nbformat_minor": 5
}
