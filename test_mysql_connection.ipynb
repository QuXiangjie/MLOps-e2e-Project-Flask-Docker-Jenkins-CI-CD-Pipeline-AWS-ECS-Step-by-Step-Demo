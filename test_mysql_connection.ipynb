{
 "cells": [
  {
   "cell_type": "markdown",
   "id": "34cf2e55",
   "metadata": {},
   "source": [
    "# Install Required Libraries\n",
    "Use pip to install the required libraries, such as `mysql-connector-python`."
   ]
  },
  {
   "cell_type": "code",
   "execution_count": null,
   "id": "bba3b2a7",
   "metadata": {},
   "outputs": [],
   "source": [
    "# Install Required Libraries\n",
    "!pip install mysql-connector-python"
   ]
  },
  {
   "cell_type": "markdown",
   "id": "7c52cc7c",
   "metadata": {},
   "source": [
    "# Import Libraries\n",
    "Import the necessary libraries, including `mysql.connector`."
   ]
  },
  {
   "cell_type": "code",
   "execution_count": 10,
   "id": "da4257e4",
   "metadata": {},
   "outputs": [],
   "source": [
    "# Import Libraries\n",
    "import mysql.connector\n",
    "from mysql.connector import Error"
   ]
  },
  {
   "cell_type": "markdown",
   "id": "d5a2715c",
   "metadata": {},
   "source": [
    "# Set Database Configuration\n",
    "Define the database configuration variables, such as host, port, user, password, and database name."
   ]
  },
  {
   "cell_type": "code",
   "execution_count": 11,
   "id": "43adb16d",
   "metadata": {},
   "outputs": [],
   "source": [
    "# Set Database Configuration\n",
    "import os\n",
    "from dotenv import load_dotenv\n",
    "\n",
    "# Load environment variables from .env file\n",
    "load_dotenv()\n",
    "\n",
    "db_config = {\n",
    "    \"host\": os.getenv(\"DB_HOST\"),\n",
    "    \"port\": int(os.getenv(\"DB_PORT\")),\n",
    "    \"user\": os.getenv(\"DB_USER\"),\n",
    "    \"password\": os.getenv(\"DB_PASSWORD\"),\n",
    "    \"database\": os.getenv(\"DB_NAME\"),\n",
    "}"
   ]
  },
  {
   "cell_type": "markdown",
   "id": "7fece40d",
   "metadata": {},
   "source": [
    "# Establish Database Connection\n",
    "Use `mysql.connector.connect()` to establish a connection to the database using the configuration variables."
   ]
  },
  {
   "cell_type": "code",
   "execution_count": 12,
   "id": "fbb3a2f6",
   "metadata": {},
   "outputs": [
    {
     "name": "stdout",
     "output_type": "stream",
     "text": [
      "Error: 2003 (HY000): Can't connect to MySQL server on 'database-1.ct4ee8oa0t4n.us-east-2.rds.amazonaws.com:3306' (60)\n"
     ]
    }
   ],
   "source": [
    "# Establish Database Connection\n",
    "try:\n",
    "    connection = mysql.connector.connect(**db_config)\n",
    "    if connection.is_connected():\n",
    "        print(\"Connection to the database was successful.\")\n",
    "except Error as e:\n",
    "    print(f\"Error: {e}\")"
   ]
  },
  {
   "cell_type": "markdown",
   "id": "7bf769cc",
   "metadata": {},
   "source": [
    "# Execute a Test Query\n",
    "Run a simple SQL query, such as `SELECT DATABASE();`, to verify the connection."
   ]
  },
  {
   "cell_type": "code",
   "execution_count": 13,
   "id": "69b18832",
   "metadata": {},
   "outputs": [
    {
     "ename": "NameError",
     "evalue": "name 'connection' is not defined",
     "output_type": "error",
     "traceback": [
      "\u001b[0;31m---------------------------------------------------------------------------\u001b[0m",
      "\u001b[0;31mNameError\u001b[0m                                 Traceback (most recent call last)",
      "Cell \u001b[0;32mIn[13], line 3\u001b[0m\n\u001b[1;32m      1\u001b[0m \u001b[38;5;66;03m# Execute a Test Query\u001b[39;00m\n\u001b[1;32m      2\u001b[0m \u001b[38;5;28;01mtry\u001b[39;00m:\n\u001b[0;32m----> 3\u001b[0m     \u001b[38;5;28;01mif\u001b[39;00m \u001b[43mconnection\u001b[49m\u001b[38;5;241m.\u001b[39mis_connected():\n\u001b[1;32m      4\u001b[0m         cursor \u001b[38;5;241m=\u001b[39m connection\u001b[38;5;241m.\u001b[39mcursor()\n\u001b[1;32m      5\u001b[0m         cursor\u001b[38;5;241m.\u001b[39mexecute(\u001b[38;5;124m\"\u001b[39m\u001b[38;5;124mSELECT DATABASE();\u001b[39m\u001b[38;5;124m\"\u001b[39m)\n",
      "\u001b[0;31mNameError\u001b[0m: name 'connection' is not defined"
     ]
    }
   ],
   "source": [
    "# Execute a Test Query\n",
    "try:\n",
    "    if connection.is_connected():\n",
    "        cursor = connection.cursor()\n",
    "        cursor.execute(\"SELECT DATABASE();\")\n",
    "        record = cursor.fetchone()\n",
    "        print(f\"Connected to database: {record[0]}\")\n",
    "except Error as e:\n",
    "    print(f\"Error: {e}\")"
   ]
  },
  {
   "cell_type": "markdown",
   "id": "5afaa2ee",
   "metadata": {},
   "source": [
    "# Close the Database Connection\n",
    "Close the database connection using the `close()` method."
   ]
  },
  {
   "cell_type": "code",
   "execution_count": null,
   "id": "ee99a131",
   "metadata": {},
   "outputs": [],
   "source": [
    "# Close the Database Connection\n",
    "if connection.is_connected():\n",
    "    cursor.close()\n",
    "    connection.close()\n",
    "    print(\"Database connection closed.\")"
   ]
  }
 ],
 "metadata": {
  "kernelspec": {
   "display_name": "Python 3",
   "language": "python",
   "name": "python3"
  },
  "language_info": {
   "codemirror_mode": {
    "name": "ipython",
    "version": 3
   },
   "file_extension": ".py",
   "mimetype": "text/x-python",
   "name": "python",
   "nbconvert_exporter": "python",
   "pygments_lexer": "ipython3",
   "version": "3.9.23"
  }
 },
 "nbformat": 4,
 "nbformat_minor": 5
}
