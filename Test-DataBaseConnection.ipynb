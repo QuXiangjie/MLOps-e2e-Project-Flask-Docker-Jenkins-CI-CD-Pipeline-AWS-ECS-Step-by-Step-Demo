{
 "cells": [
  {
   "cell_type": "code",
   "execution_count": 1,
   "id": "ffdd6bab",
   "metadata": {},
   "outputs": [
    {
     "name": "stdout",
     "output_type": "stream",
     "text": [
      "Successfully connected to the database!\n",
      "Database server version: 8.0.41\n",
      "Database connection closed.\n"
     ]
    }
   ],
   "source": [
    "import os\n",
    "import mysql.connector\n",
    "from mysql.connector import Error\n",
    "from dotenv import load_dotenv\n",
    "\n",
    "# Load environment variables from a .env file\n",
    "load_dotenv()\n",
    "\n",
    "def test_database_connection():\n",
    "    try:\n",
    "        # Get database credentials from environment variables\n",
    "        host = os.getenv(\"DB_HOST\")\n",
    "        port = os.getenv(\"DB_PORT\")\n",
    "        user = os.getenv(\"DB_USER\")\n",
    "        password = os.getenv(\"DB_PASSWORD\")\n",
    "        database = os.getenv(\"DB_NAME\")\n",
    "\n",
    "        # Connect to the database\n",
    "        connection = mysql.connector.connect(\n",
    "            host=host,\n",
    "            port=port,\n",
    "            user=user,\n",
    "            password=password,\n",
    "            database=database\n",
    "        )\n",
    "\n",
    "        if connection.is_connected():\n",
    "            print(\"Successfully connected to the database!\")\n",
    "            db_info = connection.get_server_info()\n",
    "            print(f\"Database server version: {db_info}\")\n",
    "\n",
    "    except Error as e:\n",
    "        print(f\"Error while connecting to the database: {e}\")\n",
    "\n",
    "    finally:\n",
    "        if 'connection' in locals() and connection.is_connected():\n",
    "            connection.close()\n",
    "            print(\"Database connection closed.\")\n",
    "\n",
    "if __name__ == \"__main__\":\n",
    "    test_database_connection()"
   ]
  }
 ],
 "metadata": {
  "kernelspec": {
   "display_name": "datascience",
   "language": "python",
   "name": "python3"
  },
  "language_info": {
   "codemirror_mode": {
    "name": "ipython",
    "version": 3
   },
   "file_extension": ".py",
   "mimetype": "text/x-python",
   "name": "python",
   "nbconvert_exporter": "python",
   "pygments_lexer": "ipython3",
   "version": "3.13.0"
  }
 },
 "nbformat": 4,
 "nbformat_minor": 5
}
